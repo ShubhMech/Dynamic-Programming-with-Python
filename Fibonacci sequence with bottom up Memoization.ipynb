{
 "cells": [
  {
   "cell_type": "code",
   "execution_count": 42,
   "id": "1d807c03-1eaf-4c67-884a-e6b8a54c3e2e",
   "metadata": {},
   "outputs": [],
   "source": [https://github.com/ShubhMech/Dynamic-Programming-with-Python/blob/main/Fibonacci%20sequence%20with%20Memoization.ipynb
    "class Zero_one_knapsack:\n",
    "    \n",
    "    def __init__(self, profit,weight):\n",
    "        self.weight= weight\n",
    "        self.profit= profit\n",
    "        \n",
    "Item1= Zero_one_knapsack(312,30)\n",
    "Item2=Zero_one_knapsack(261,19)\n",
    "Item3=Zero_one_knapsack(173,29)\n",
    "        \n",
    "def knap(items, capacity):\n",
    "    \n",
    "    profits= 0\n",
    "    items.sort(key= lambda x: (x.profit/x.weight), reverse=True)\n",
    "    \n",
    "    for i in range(len(items)):\n",
    "    \n",
    "        if capacity-items[i].weight>0:\n",
    "            profits += items[i].profit\n",
    "            capacity -= items[i].weight\n",
    "            print(\"The remaining capacity is: \", capacity)\n",
    "            print(f\"The item included has a weight of {items[i].weight} and profit of {items[i].profit}\")\n",
    "        else:\n",
    "            break\n",
    "            \n",
    "    return profits, capacity"
   ]
  },
  {
   "cell_type": "code",
   "execution_count": 44,
   "id": "c1feeda3-2143-4347-b4b8-8fe05c8ad4c2",
   "metadata": {},
   "outputs": [
    {
     "name": "stdout",
     "output_type": "stream",
     "text": [
      "The remaining capacity is:  31\n",
      "The item included has a weight of 19 and profit of 261\n",
      "The remaining capacity is:  1\n",
      "The item included has a weight of 30 and profit of 312\n"
     ]
    },
    {
     "data": {
      "text/plain": [
       "(573, 1)"
      ]
     },
     "execution_count": 44,
     "metadata": {},
     "output_type": "execute_result"
    }
   ],
   "source": [
    "items=[Item1,Item2, Item3]\n",
    "knap(items,50)"
   ]
  },
  {
   "cell_type": "code",
   "execution_count": 32,
   "id": "981fa28f-9baf-487b-ba0d-d71d0001d1a2",
   "metadata": {},
   "outputs": [
    {
     "data": {
      "text/plain": [
       "26.0"
      ]
     },
     "execution_count": 32,
     "metadata": {},
     "output_type": "execute_result"
    }
   ],
   "source": [
    "items[0].profit/items[0].weight"
   ]
  },
  {
   "cell_type": "code",
   "execution_count": 33,
   "id": "9a9bcca8-d36c-45c8-a7cd-510c7bc5d6ea",
   "metadata": {},
   "outputs": [
    {
     "data": {
      "text/plain": [
       "10.333333333333334"
      ]
     },
     "execution_count": 33,
     "metadata": {},
     "output_type": "execute_result"
    }
   ],
   "source": [
    "items[1].profit/items[1].weight"
   ]
  },
  {
   "cell_type": "code",
   "execution_count": 34,
   "id": "10ebe1c2-a512-4aae-96d1-a4f356b09d8c",
   "metadata": {},
   "outputs": [
    {
     "data": {
      "text/plain": [
       "8.5"
      ]
     },
     "execution_count": 34,
     "metadata": {},
     "output_type": "execute_result"
    }
   ],
   "source": [
    "items[2].profit/items[2].weight"
   ]
  },
  {
   "cell_type": "code",
   "execution_count": 76,
   "id": "5e561df3-8538-4228-982d-556f16fe5d0c",
   "metadata": {},
   "outputs": [
    {
     "data": {
      "text/plain": [
       "98"
      ]
     },
     "execution_count": 76,
     "metadata": {},
     "output_type": "execute_result"
    }
   ],
   "source": [
    "class Item:\n",
    "    \n",
    "    def __init__(self, profit,weight):\n",
    "        self.weight= weight\n",
    "        self.profit= profit\n",
    "        \n",
    "mango = Item(31, 3)\n",
    "apple = Item(26, 1)\n",
    "orange = Item(17, 2)\n",
    "banana = Item(72, 5)\n",
    "\n",
    "items = [mango, apple, orange, banana]\n",
    "        \n",
    "def knap(items, capacity, index):\n",
    "    if capacity<=0 or index>= len(items):\n",
    "#         print(\"True\")\n",
    "        return  0\n",
    "    \n",
    "    elif capacity>=items[index].weight:\n",
    "#         profits += items[index].profit\n",
    "#         capacity -= items[index].weight\n",
    "        profit1= items[index].profit + knap(items, capacity- items[index].weight,index+1)\n",
    "        profit2= knap(items, capacity,index+1)\n",
    "        return max(profit1, profit2)\n",
    "    else:\n",
    "        return 0 \n",
    "\n",
    "    \n",
    "knap(items,7,0)\n",
    "\n",
    "\n",
    "\n",
    "\n",
    "\n",
    "\n"
   ]
  },
  {
   "cell_type": "code",
   "execution_count": 82,
   "id": "36261e1e-9ee4-42cc-a3fc-5dc1b291901f",
   "metadata": {},
   "outputs": [
    {
     "name": "stdout",
     "output_type": "stream",
     "text": [
      "Length of LCS is  5\n"
     ]
    }
   ],
   "source": [
    "def lcs(X , Y):\n",
    "\n",
    "    m = len(X)\n",
    "    n = len(Y)\n",
    " \n",
    "\n",
    "    L = [[None]*(n+1) for i in range(m+1)]\n",
    "\n",
    "    for i in range(m+1):\n",
    "        for j in range(n+1):\n",
    "            if i == 0 or j == 0 :\n",
    "                L[i][j] = 0\n",
    "            elif X[i-1] == Y[j-1]:\n",
    "                L[i][j] = L[i-1][j-1]+1\n",
    "            else:\n",
    "                L[i][j] = max(L[i-1][j] , L[i][j-1])\n",
    "\n",
    "    return L[m][n]\n",
    "\n",
    " \n",
    " \n",
    "\n",
    "X = \"AGGTeAB\"\n",
    "Y = \"GXTeXAYB\"\n",
    "print (\"Length of LCS is \", lcs(X, Y) )"
   ]
  },
  {
   "cell_type": "code",
   "execution_count": null,
   "id": "df52c340-7078-4b12-b9ae-fde502eb5063",
   "metadata": {},
   "outputs": [],
   "source": []
  },
  {
   "cell_type": "code",
   "execution_count": 89,
   "id": "e1ddb100-fe30-4828-b7ff-8b1e00e78498",
   "metadata": {},
   "outputs": [],
   "source": [
    "class Min_Cost:\n",
    "    def __init__(self, row, col, mat):\n",
    "        self.row= row\n",
    "        self.col= col\n",
    "        self.mat= mat\n",
    "    \n",
    "    def cost(self,row, col, mat):\n",
    "        if self.col== 0 or self.row == 0:\n",
    "            return self.mat[self.row][self.col]\n",
    "        else:\n",
    "            min_= min(self.cost(self.row-1,self.col), self.cost(self.row, self.col-1), self.mat)\n",
    "            cost= self.mat[self.row][self.col] + min_"
   ]
  },
  {
   "cell_type": "code",
   "execution_count": 90,
   "id": "3bdbb550-f772-41fe-8e61-1cbbfd028ff8",
   "metadata": {},
   "outputs": [],
   "source": [
    "mat= [[3,4,5],[4,5,6],[6,7,8]]"
   ]
  },
  {
   "cell_type": "code",
   "execution_count": 91,
   "id": "c87ddffc-3598-48bd-9a17-d9d1a3b7b6a9",
   "metadata": {},
   "outputs": [
    {
     "data": {
      "text/plain": [
       "<__main__.Min_Cost at 0x1e98728a310>"
      ]
     },
     "execution_count": 91,
     "metadata": {},
     "output_type": "execute_result"
    }
   ],
   "source": [
    "Min_Cost(2,2,mat)"
   ]
  },
  {
   "cell_type": "code",
   "execution_count": 109,
   "id": "f1ead136-7025-4b1d-8d77-013b999979cd",
   "metadata": {},
   "outputs": [],
   "source": [
    "def cost(row, col, mat):\n",
    "#     cost= 0\n",
    "    if col< 0 or row< 0:\n",
    "        return float('inf')\n",
    "    if col== 0 and row == 0:\n",
    "        return mat[row][col]\n",
    "    else:\n",
    "        min1= cost(row-1, col, mat)\n",
    "        min2= cost(row, col-1,mat)\n",
    "        \n",
    "        return mat[row][col]+min(min1,min2)"
   ]
  },
  {
   "cell_type": "code",
   "execution_count": 110,
   "id": "25fb3ad7-caf9-4d03-8f68-ec5f8f8af7bd",
   "metadata": {},
   "outputs": [
    {
     "data": {
      "text/plain": [
       "7"
      ]
     },
     "execution_count": 110,
     "metadata": {},
     "output_type": "execute_result"
    }
   ],
   "source": [
    "cost(1,0,mat)"
   ]
  },
  {
   "cell_type": "code",
   "execution_count": 121,
   "id": "2ed20500-bc88-4f3d-be78-2c3bcf4846b8",
   "metadata": {},
   "outputs": [
    {
     "data": {
      "text/plain": [
       "2046711111473984623691759"
      ]
     },
     "execution_count": 121,
     "metadata": {},
     "output_type": "execute_result"
    }
   ],
   "source": [
    "def fibo(n,dict_):\n",
    "    global memo\n",
    "    memo = dict_\n",
    "    if n==1 or n==2: \n",
    "        return 1\n",
    "    else:\n",
    "        if not n in memo:\n",
    "            memo[n]= fibo(n-1, memo) + fibo(n-2,memo)\n",
    "    return memo[n]\n",
    "        \n",
    "dict_={}\n",
    "fibo(118,dict_)"
   ]
  },
  {
   "cell_type": "code",
   "execution_count": 122,
   "id": "1d6b5627-12fb-4dd4-a79c-3165c26c9bf4",
   "metadata": {},
   "outputs": [
    {
     "data": {
      "text/plain": [
       "{3: 2,\n",
       " 4: 3,\n",
       " 5: 5,\n",
       " 6: 8,\n",
       " 7: 13,\n",
       " 8: 21,\n",
       " 9: 34,\n",
       " 10: 55,\n",
       " 11: 89,\n",
       " 12: 144,\n",
       " 13: 233,\n",
       " 14: 377,\n",
       " 15: 610,\n",
       " 16: 987,\n",
       " 17: 1597,\n",
       " 18: 2584,\n",
       " 19: 4181,\n",
       " 20: 6765,\n",
       " 21: 10946,\n",
       " 22: 17711,\n",
       " 23: 28657,\n",
       " 24: 46368,\n",
       " 25: 75025,\n",
       " 26: 121393,\n",
       " 27: 196418,\n",
       " 28: 317811,\n",
       " 29: 514229,\n",
       " 30: 832040,\n",
       " 31: 1346269,\n",
       " 32: 2178309,\n",
       " 33: 3524578,\n",
       " 34: 5702887,\n",
       " 35: 9227465,\n",
       " 36: 14930352,\n",
       " 37: 24157817,\n",
       " 38: 39088169,\n",
       " 39: 63245986,\n",
       " 40: 102334155,\n",
       " 41: 165580141,\n",
       " 42: 267914296,\n",
       " 43: 433494437,\n",
       " 44: 701408733,\n",
       " 45: 1134903170,\n",
       " 46: 1836311903,\n",
       " 47: 2971215073,\n",
       " 48: 4807526976,\n",
       " 49: 7778742049,\n",
       " 50: 12586269025,\n",
       " 51: 20365011074,\n",
       " 52: 32951280099,\n",
       " 53: 53316291173,\n",
       " 54: 86267571272,\n",
       " 55: 139583862445,\n",
       " 56: 225851433717,\n",
       " 57: 365435296162,\n",
       " 58: 591286729879,\n",
       " 59: 956722026041,\n",
       " 60: 1548008755920,\n",
       " 61: 2504730781961,\n",
       " 62: 4052739537881,\n",
       " 63: 6557470319842,\n",
       " 64: 10610209857723,\n",
       " 65: 17167680177565,\n",
       " 66: 27777890035288,\n",
       " 67: 44945570212853,\n",
       " 68: 72723460248141,\n",
       " 69: 117669030460994,\n",
       " 70: 190392490709135,\n",
       " 71: 308061521170129,\n",
       " 72: 498454011879264,\n",
       " 73: 806515533049393,\n",
       " 74: 1304969544928657,\n",
       " 75: 2111485077978050,\n",
       " 76: 3416454622906707,\n",
       " 77: 5527939700884757,\n",
       " 78: 8944394323791464,\n",
       " 79: 14472334024676221,\n",
       " 80: 23416728348467685,\n",
       " 81: 37889062373143906,\n",
       " 82: 61305790721611591,\n",
       " 83: 99194853094755497,\n",
       " 84: 160500643816367088,\n",
       " 85: 259695496911122585,\n",
       " 86: 420196140727489673,\n",
       " 87: 679891637638612258,\n",
       " 88: 1100087778366101931,\n",
       " 89: 1779979416004714189,\n",
       " 90: 2880067194370816120,\n",
       " 91: 4660046610375530309,\n",
       " 92: 7540113804746346429,\n",
       " 93: 12200160415121876738,\n",
       " 94: 19740274219868223167,\n",
       " 95: 31940434634990099905,\n",
       " 96: 51680708854858323072,\n",
       " 97: 83621143489848422977,\n",
       " 98: 135301852344706746049,\n",
       " 99: 218922995834555169026,\n",
       " 100: 354224848179261915075,\n",
       " 101: 573147844013817084101,\n",
       " 102: 927372692193078999176,\n",
       " 103: 1500520536206896083277,\n",
       " 104: 2427893228399975082453,\n",
       " 105: 3928413764606871165730,\n",
       " 106: 6356306993006846248183,\n",
       " 107: 10284720757613717413913,\n",
       " 108: 16641027750620563662096,\n",
       " 109: 26925748508234281076009,\n",
       " 110: 43566776258854844738105,\n",
       " 111: 70492524767089125814114,\n",
       " 112: 114059301025943970552219,\n",
       " 113: 184551825793033096366333,\n",
       " 114: 298611126818977066918552,\n",
       " 115: 483162952612010163284885,\n",
       " 116: 781774079430987230203437,\n",
       " 117: 1264937032042997393488322,\n",
       " 118: 2046711111473984623691759}"
      ]
     },
     "execution_count": 122,
     "metadata": {},
     "output_type": "execute_result"
    }
   ],
   "source": [
    "memo"
   ]
  },
  {
   "cell_type": "code",
   "execution_count": null,
   "id": "cdad086b-9ee5-4c1f-be39-2ec00bb464a2",
   "metadata": {},
   "outputs": [],
   "source": []
  }
 ],
 "metadata": {
  "kernelspec": {
   "display_name": "Python 3",
   "language": "python",
   "name": "python3"
  },
  "language_info": {
   "codemirror_mode": {
    "name": "ipython",
    "version": 3
   },
   "file_extension": ".py",
   "mimetype": "text/x-python",
   "name": "python",
   "nbconvert_exporter": "python",
   "pygments_lexer": "ipython3",
   "version": "3.8.5"
  }
 },
 "nbformat": 4,
 "nbformat_minor": 5
}
